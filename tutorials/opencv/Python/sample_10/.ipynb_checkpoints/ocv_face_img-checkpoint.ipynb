{
 "cells": [
  {
   "cell_type": "markdown",
   "metadata": {},
   "source": [
    "# OpenCV Tutorial Sample 10: ocv_face_img\n",
    "\n",
    "[Sample 10](ocv_face_img.py) is a basic Face and Eye Detection program that uses OpenCV to analyze an image and detect human faces and eyes. The detected areas or Regions of Interest (ROI) are demarcated with rectangles. The program uses the OpenCV built-in pre-trained Haar feature-based cascade classifiers in order to perform this task.\n",
    "\n",
    "### What are Cascade Classifiers?\n",
    "\n",
    "Cascade Classifiers are a form of ensemble learning systems. Such systems use a collection of a large number of simple classifiers in a cascade. This leads to accurate yet computationally efficient detection systems.\n",
    "\n",
    "### What are Haar feature-based Cascade Classifiers?\n",
    "\n",
    "Haar features are named after Haar wavelets in mathematics. The are patterns in the pixel values of an image such as edges, lines and neighbors that are used with a windowing technique to extract features from an image. Since the features could be different, a collection of specialized but simple pattern classifiers are used in a cascade to perform the feature detection.\n",
    "\n",
    "### References:\n",
    "\n",
    "1. Rapid Object Detection using a Boosted Cascade of Simple Features [pdf](http://wearables.cc.gatech.edu/paper_of_week/viola01rapid.pdf) \n",
    " [_This is the original paper by Prof. Viola and Prof. Jones_]\n",
    "2. An Analysis of the Viola-Jones Face Detection Algorithm [pdf](http://www.ipol.im/pub/art/2014/104/article.pdf)\n",
    "3. A review on Face Detection and study of Viola Jones method [pdf](http://www.ijcttjournal.org/2015/Volume25/number-1/IJCTT-V25P110.pdf)\n",
    "4. Explaining AdaBoost [pdf](http://rob.schapire.net/papers/explaining-adaboost.pdf)\n",
    "5. Face detection using Haar Cascades [Tutorial link](http://docs.opencv.org/trunk/d7/d8b/tutorial_py_face_detection.html)\n",
    "\n",
    "## Sample Code\n",
    "\n",
    "First we do the usual initializations ..."
   ]
  },
  {
   "cell_type": "code",
   "execution_count": 1,
   "metadata": {
    "collapsed": true
   },
   "outputs": [],
   "source": [
    "from __future__ import print_function\n",
    "#!/usr/bin/env python\n",
    "\n",
    "# Python 2/3 compatibility\n",
    "from __future__ import print_function\n",
    "# Allows use of print like a function in Python 2.x\n",
    "\n",
    "# Import the Numby and OpenCV2 Python modules\n",
    "import numpy as np\n",
    "import cv2"
   ]
  },
  {
   "cell_type": "markdown",
   "metadata": {},
   "source": [
    "Select the pre-trained Haar Cascade Classifier file to use for face and eye detection respectively and pass it to the OpenCV API [cv2.CascadeClassifier()](http://docs.opencv.org/3.0-last-rst/modules/objdetect/doc/cascade_classification.html#cv2.CascadeClassifier)"
   ]
  },
  {
   "cell_type": "code",
   "execution_count": 2,
   "metadata": {
    "collapsed": true
   },
   "outputs": [],
   "source": [
    "# This section selects the Haar Cascade Classifer File to use\n",
    "# Ensure that the path to the xml files are correct\n",
    "# In this example, the files have been copied to the local folder\n",
    "face_cascade = cv2.CascadeClassifier('haarcascade_frontalface_default.xml')\n",
    "eye_cascade = cv2.CascadeClassifier('haarcascade_eye.xml')"
   ]
  },
  {
   "cell_type": "markdown",
   "metadata": {},
   "source": [
    "Next load an image to analyze. Several examples are provided. Make sure that only one cv2.imread() command is active and all the rest are commented out. The example images have all been copied to the local folder."
   ]
  },
  {
   "cell_type": "code",
   "execution_count": 3,
   "metadata": {
    "collapsed": true
   },
   "outputs": [],
   "source": [
    "img = cv2.imread('brian-krzanich_2.jpg')\n",
    "#img = cv2.imread('Intel_Board_of_Directors.jpg')\n",
    "#img = cv2.imread('bmw-group-intel-mobileye-3.jpg')"
   ]
  },
  {
   "cell_type": "markdown",
   "metadata": {},
   "source": [
    "Now convert the image to Grayscale to make it easier to process"
   ]
  },
  {
   "cell_type": "code",
   "execution_count": 4,
   "metadata": {
    "collapsed": true
   },
   "outputs": [],
   "source": [
    "gray = cv2.cvtColor(img, cv2.COLOR_BGR2GRAY)"
   ]
  },
  {
   "cell_type": "markdown",
   "metadata": {},
   "source": [
    "The [detectMultiScale](http://docs.opencv.org/3.0-last-rst/modules/objdetect/doc/cascade_classification.html#cv2.CascadeClassifier.detectMultiScale) method of the OpenCV Cascade Classifier API detects features of different sizes in the input image. The detected objects are returned as a list of rectangles.\n",
    "\n",
    "cv2.CascadeClassifier.detectMultiScale(image[,scaleFactor[,minNeighbors[,flags[,minSize[,maxSize]]]]]) -> objects"
   ]
  },
  {
   "cell_type": "code",
   "execution_count": 5,
   "metadata": {
    "collapsed": true
   },
   "outputs": [],
   "source": [
    "faces = face_cascade.detectMultiScale(gray, 1.3, 5)"
   ]
  },
  {
   "cell_type": "markdown",
   "metadata": {},
   "source": [
    "Draw the rectangles around detected Regions of Interest [ROI], namely faces amd eyes using [cv2.rectangle()](http://docs.opencv.org/3.0-last-rst/modules/imgproc/doc/drawing_functions.html#cv2.rectangle) for all detected objects in the image returned by the classifiers.\n",
    "\n",
    "cv2.rectangle(img, pt1, pt2, color[, thickness[, lineType[, shift]]]) -> img\n",
    "\n",
    ">Note: Since the eyes are a part of the face, we nest the classifier for the eyes. So we only look for eyes in areas identified as the face. This improves the accuracy."
   ]
  },
  {
   "cell_type": "code",
   "execution_count": 6,
   "metadata": {
    "collapsed": true
   },
   "outputs": [],
   "source": [
    "# Draw the rectangles around detected Regions of Interest [ROI] - faces\n",
    "for (x,y,w,h) in faces:\n",
    "    cv2.rectangle(img,(x,y),(x+w,y+h),(255,0,0),2)\n",
    "    roi_gray = gray[y:y+h, x:x+w]\n",
    "    roi_color = img[y:y+h, x:x+w]\n",
    "    # Since eyes are a part of face, limit eye detection to face regions to improve accuracy\n",
    "    eyes = eye_cascade.detectMultiScale(roi_gray)\n",
    "    for (ex,ey,ew,eh) in eyes:\n",
    "        # Draw the rectangles around detected Regions of Interest [ROI] - eyes\n",
    "        cv2.rectangle(roi_color,(ex,ey),(ex+ew,ey+eh),(0,255,0),2)"
   ]
  },
  {
   "cell_type": "markdown",
   "metadata": {},
   "source": [
    "Finally display the result until dismissed and release all reseources used."
   ]
  },
  {
   "cell_type": "code",
   "execution_count": 7,
   "metadata": {
    "collapsed": true
   },
   "outputs": [],
   "source": [
    "# Display the result        \n",
    "cv2.imshow('img',img)\n",
    "# Show image until dismissed using GUI exit window\n",
    "cv2.waitKey(0)\n",
    "# Release all resources used\n",
    "cv2.destroyAllWindows()"
   ]
  }
 ],
 "metadata": {
  "kernelspec": {
   "display_name": "Python 2",
   "language": "python",
   "name": "python2"
  },
  "language_info": {
   "codemirror_mode": {
    "name": "ipython",
    "version": 2
   },
   "file_extension": ".py",
   "mimetype": "text/x-python",
   "name": "python",
   "nbconvert_exporter": "python",
   "pygments_lexer": "ipython2",
   "version": "2.7.13"
  }
 },
 "nbformat": 4,
 "nbformat_minor": 2
}
