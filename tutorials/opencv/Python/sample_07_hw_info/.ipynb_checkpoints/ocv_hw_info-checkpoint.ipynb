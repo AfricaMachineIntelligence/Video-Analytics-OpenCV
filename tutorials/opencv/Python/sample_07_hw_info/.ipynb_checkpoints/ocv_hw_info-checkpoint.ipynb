{
 "cells": [
  {
   "cell_type": "markdown",
   "metadata": {},
   "source": [
    "# OpenCV Tutorial Sample 7: ocv_hw_info\n",
    "[Sample 07](ocv_hw_info.py) is a simple diagnostic program that determines how many logical CPU's are available and then queries the hardware to check whether MMX and Streaming SIMD Extensions (SSE), Advanced Vector Extensions etc. are supported .\n",
    "\n",
    "> _**Note:**_ The OpenCV function cv2.checkHardwareSupport(feature) returns true if the host hardware supports the specified feature. When users call setUseOptimized(False), all the subsequent calls to cv2.checkHardwareSupport() will return false until cv2.setUseOptimized(True) is called. This way users can dynamically switch on and off the optimized code in OpenCV.\n",
    "\n",
    "Start with the usual initializations"
   ]
  },
  {
   "cell_type": "code",
   "execution_count": 1,
   "metadata": {
    "collapsed": true
   },
   "outputs": [],
   "source": [
    "#!/usr/bin/env python\n",
    "\n",
    "# Python 2/3 compatibility\n",
    "from __future__ import print_function\n",
    "# Allows use of print like a function in Python 2.x\n",
    "\n",
    "# Import the OpenCV2 module\n",
    "import cv2"
   ]
  },
  {
   "cell_type": "markdown",
   "metadata": {},
   "source": [
    "Check the number of logical CPUs available"
   ]
  },
  {
   "cell_type": "code",
   "execution_count": 2,
   "metadata": {
    "collapsed": false
   },
   "outputs": [
    {
     "name": "stdout",
     "output_type": "stream",
     "text": [
      "\n",
      "Number of logical CPU's Available: 8\n",
      "\n"
     ]
    }
   ],
   "source": [
    "# Returns the number of logical CPUs available\n",
    "cpu = cv2.getNumberOfCPUs()\n",
    "print()\n",
    "print(\"Number of logical CPU's Available: \", end='')\n",
    "print(cpu)\n",
    "print()"
   ]
  },
  {
   "cell_type": "code",
   "execution_count": 3,
   "metadata": {
    "collapsed": true
   },
   "outputs": [],
   "source": [
    "#Reset Hardware Optimization Flags\n",
    "cv2.setUseOptimized(True)"
   ]
  },
  {
   "cell_type": "markdown",
   "metadata": {},
   "source": [
    "The functions below return true if the host hardware supports the specified feature.\n",
    "When user calls setUseOptimized(false), all the subsequent calls to checkHardwareSupport() will return false until setUseOptimized(true) is called. \n",
    "This way user can dynamically switch on and off the optimized code in OpenCV."
   ]
  },
  {
   "cell_type": "code",
   "execution_count": 4,
   "metadata": {
    "collapsed": true
   },
   "outputs": [],
   "source": [
    "# Assign ID to Features as this doesn't seem to be working currently for Python\n",
    "cv2.CPU_MMX = 1\n",
    "cv2.CPU_SSE = 2\n",
    "cv2.CPU_SSE2 = 3\n",
    "cv2.CPU_SSE3 = 4\n",
    "cv2.CPU_SSSE3 = 5\n",
    "cv2.CPU_SSE4_1 = 6\n",
    "cv2.CPU_SSE4_2 = 7\n",
    "cv2.CPU_POPCNT = 8\n",
    "cv2.CPU_AVX = 9"
   ]
  },
  {
   "cell_type": "code",
   "execution_count": 5,
   "metadata": {
    "collapsed": false
   },
   "outputs": [
    {
     "name": "stdout",
     "output_type": "stream",
     "text": [
      "CPU MMX Capable?: True\n"
     ]
    }
   ],
   "source": [
    "# Returns True if CPU is MMX capable\n",
    "mmx = cv2.checkHardwareSupport(cv2.CPU_MMX)\n",
    "print(\"CPU MMX Capable?: \", end='')\n",
    "print(mmx)"
   ]
  },
  {
   "cell_type": "code",
   "execution_count": 6,
   "metadata": {
    "collapsed": false
   },
   "outputs": [
    {
     "name": "stdout",
     "output_type": "stream",
     "text": [
      "CPU SSE Capable?: True\n"
     ]
    }
   ],
   "source": [
    "# Returns True if CPU is SSE capable\n",
    "sse = cv2.checkHardwareSupport(cv2.CPU_SSE)\n",
    "print(\"CPU SSE Capable?: \", end='')\n",
    "print(sse)"
   ]
  },
  {
   "cell_type": "code",
   "execution_count": 7,
   "metadata": {
    "collapsed": false
   },
   "outputs": [
    {
     "name": "stdout",
     "output_type": "stream",
     "text": [
      "CPU SSE 2 Capable?: True\n"
     ]
    }
   ],
   "source": [
    "# Returns True if CPU is SSE2 capable\n",
    "sse2 = cv2.checkHardwareSupport(cv2.CPU_SSE2)\n",
    "print(\"CPU SSE 2 Capable?: \", end='')\n",
    "print(sse2)"
   ]
  },
  {
   "cell_type": "code",
   "execution_count": 8,
   "metadata": {
    "collapsed": false
   },
   "outputs": [
    {
     "name": "stdout",
     "output_type": "stream",
     "text": [
      "CPU SSE 3 Capable?: True\n"
     ]
    }
   ],
   "source": [
    "# Returns True if CPU is SSE3 capable\n",
    "sse3 = cv2.checkHardwareSupport(cv2.CPU_SSE3)\n",
    "print(\"CPU SSE 3 Capable?: \", end='')\n",
    "print(sse3)"
   ]
  },
  {
   "cell_type": "code",
   "execution_count": 9,
   "metadata": {
    "collapsed": false
   },
   "outputs": [
    {
     "name": "stdout",
     "output_type": "stream",
     "text": [
      "CPU SSSE 3 Capable?: True\n"
     ]
    }
   ],
   "source": [
    "# Returns True if CPU is SSSE3 capable\n",
    "ssse3 = cv2.checkHardwareSupport(cv2.CPU_SSSE3)\n",
    "print(\"CPU SSSE 3 Capable?: \", end='')\n",
    "print(ssse3)"
   ]
  },
  {
   "cell_type": "code",
   "execution_count": 10,
   "metadata": {
    "collapsed": false
   },
   "outputs": [
    {
     "name": "stdout",
     "output_type": "stream",
     "text": [
      "CPU SSE 4.1 Capable?: True\n"
     ]
    }
   ],
   "source": [
    "# Returns True if CPU is SSE4.1 capable\n",
    "sse4_1 = cv2.checkHardwareSupport(cv2.CPU_SSE4_1)\n",
    "print(\"CPU SSE 4.1 Capable?: \", end='')\n",
    "#print(cv2.getNumberOfCPUs())\n",
    "print(sse4_1)"
   ]
  },
  {
   "cell_type": "code",
   "execution_count": 11,
   "metadata": {
    "collapsed": false
   },
   "outputs": [
    {
     "name": "stdout",
     "output_type": "stream",
     "text": [
      "CPU SSE 4.2 Capable?: True\n"
     ]
    }
   ],
   "source": [
    "# Returns True if CPU is SSE4.2 capable\n",
    "sse4_2 = cv2.checkHardwareSupport(cv2.CPU_SSE4_2)\n",
    "print(\"CPU SSE 4.2 Capable?: \", end='')\n",
    "print(sse4_2)"
   ]
  },
  {
   "cell_type": "code",
   "execution_count": 12,
   "metadata": {
    "collapsed": false
   },
   "outputs": [
    {
     "name": "stdout",
     "output_type": "stream",
     "text": [
      "CPU POPCNT Capable?: True\n"
     ]
    }
   ],
   "source": [
    "# Returns True if CPU is POP capable\n",
    "popcnt = cv2.checkHardwareSupport(cv2.CPU_POPCNT)\n",
    "print(\"CPU POPCNT Capable?: \", end='')\n",
    "print(popcnt)"
   ]
  },
  {
   "cell_type": "code",
   "execution_count": 13,
   "metadata": {
    "collapsed": false
   },
   "outputs": [
    {
     "name": "stdout",
     "output_type": "stream",
     "text": [
      "CPU AVX Capable?: True\n"
     ]
    }
   ],
   "source": [
    "# Returns True if CPU is AVX capable\n",
    "avx = cv2.checkHardwareSupport(cv2.CPU_AVX)\n",
    "print(\"CPU AVX Capable?: \", end='')\n",
    "print(avx)"
   ]
  }
 ],
 "metadata": {
  "anaconda-cloud": {},
  "kernelspec": {
   "display_name": "Python 2",
   "language": "python",
   "name": "python2"
  },
  "language_info": {
   "codemirror_mode": {
    "name": "ipython",
    "version": 2
   },
   "file_extension": ".py",
   "mimetype": "text/x-python",
   "name": "python",
   "nbconvert_exporter": "python",
   "pygments_lexer": "ipython2",
   "version": "2.7.13"
  }
 },
 "nbformat": 4,
 "nbformat_minor": 1
}
