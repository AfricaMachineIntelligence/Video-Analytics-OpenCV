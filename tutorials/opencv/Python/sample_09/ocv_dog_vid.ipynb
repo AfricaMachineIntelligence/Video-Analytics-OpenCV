{
 "cells": [
  {
   "cell_type": "markdown",
   "metadata": {},
   "source": [
    "# OpenCV Tutorial Sample 9: ocv_dog_vid\n",
    "\n",
    "[Sample 09](ocv_dog_vid.py) is a program that overlays a Digital On-Screen Graphic (DOG) on the video display stream. This program uses the same principles as used for the previous example for still images.\n",
    "\n",
    "In fact, you can mash sample_04 and sample_08 together to create this sample. It's so simple! The procedure to load and process the image and to extract it from the background is only done once outside of the while loop. This is so you don't slow down the frame rate of the video. \n",
    "\n",
    "Inside the while loop, all that is done is blacking out the logo area and adding the logo to each frame. Replacing the camera device id with a filename and path in cv2.VideoCapture() function allows you to watermark any video file from disk. You can write the resulting video back to disk with the watermark added using the write() method from cv2.VideoCapture().\n",
    "\n",
    "Since it is so simple we will just run the program:"
   ]
  },
  {
   "cell_type": "code",
   "execution_count": 3,
   "metadata": {
    "collapsed": false
   },
   "outputs": [
    {
     "name": "stdout",
     "output_type": "stream",
     "text": [
      "Sucess: Grabbing the camera\n",
      "Quitting ...\n"
     ]
    }
   ],
   "source": [
    "#!/usr/bin/env python\n",
    "\n",
    "# Python 2/3 compatibility\n",
    "from __future__ import print_function\n",
    "# Allows use of print like a function in Python 2.x\n",
    "\n",
    "# Import OpenCV and Numpy modules\n",
    "import numpy as np\n",
    "import cv2\n",
    "\n",
    " \n",
    "try:\n",
    "    # Create a named window to display video output\n",
    "    cv2.namedWindow('Watermark', cv2.WINDOW_NORMAL)\n",
    "    # Load logo image\n",
    "    dog = cv2.imread('Intel_Logo.png')\n",
    "    # \n",
    "    rows,cols,channels = dog.shape\n",
    "    # Convert the logo to grayscale\n",
    "    dog_gray = cv2.cvtColor(dog,cv2.COLOR_BGR2GRAY)\n",
    "    # Create a mask of the logo and its inverse mask\n",
    "    ret, mask = cv2.threshold(dog_gray, 10, 255, cv2.THRESH_BINARY)\n",
    "    mask_inv = cv2.bitwise_not(mask)\n",
    "    # Now just extract the logo\n",
    "    dog_fg = cv2.bitwise_and(dog,dog,mask = mask)\n",
    "    # Initialize Default Video Web Camera for capture.\n",
    "    webcam = cv2.VideoCapture(0)\n",
    "    # Check if Camera initialized correctly\n",
    "    success = webcam.isOpened()\n",
    "    if success == False:\n",
    "        print('Error: Camera could not be opened')\n",
    "    else:\n",
    "        print('Sucess: Grabbing the camera')\n",
    "        webcam.set(cv2.CAP_PROP_FPS,30);\n",
    "        webcam.set(cv2.CAP_PROP_FRAME_WIDTH,1024);\n",
    "        webcam.set(cv2.CAP_PROP_FRAME_HEIGHT,768);\n",
    "\n",
    "    while(True):\n",
    "        # Read each frame in video stream\n",
    "        ret, frame = webcam.read()\n",
    "        # Perform operations on the video frames here\n",
    "        # To put logo on top-left corner, create a Region of Interest (ROI)\n",
    "        roi = frame[0:rows, 0:cols ] \n",
    "        # Now blackout the area of logo in ROI\n",
    "        frm_bg = cv2.bitwise_and(roi,roi,mask = mask_inv)\n",
    "        # Next add the logo to each video frame\n",
    "        dst = cv2.add(frm_bg,dog_fg)\n",
    "        frame[0:rows, 0:cols ] = dst\n",
    "        # Overlay Text on the video frame with Exit instructions\n",
    "        font = cv2.FONT_HERSHEY_SIMPLEX\n",
    "        cv2.putText(frame, \"Type q to Quit:\",(50,700), font, 1,(255,255,255),2,cv2.LINE_AA)\n",
    "        # Display the resulting frame\n",
    "        cv2.imshow('Watermark',frame)\n",
    "        # Wait for exit key \"q\" to quit\n",
    "        if cv2.waitKey(1) & 0xFF == ord('q'):\n",
    "            print('Quitting ...')\n",
    "            break\n",
    "\n",
    "    # Release all resources used\n",
    "    webcam.release()\n",
    "    cv2.destroyAllWindows()\n",
    "\n",
    "except cv2.error as e:\n",
    "    print('Please correct OpenCV Error')"
   ]
  }
 ],
 "metadata": {
  "kernelspec": {
   "display_name": "Python 2",
   "language": "python",
   "name": "python2"
  },
  "language_info": {
   "codemirror_mode": {
    "name": "ipython",
    "version": 2
   },
   "file_extension": ".py",
   "mimetype": "text/x-python",
   "name": "python",
   "nbconvert_exporter": "python",
   "pygments_lexer": "ipython2",
   "version": "2.7.13"
  }
 },
 "nbformat": 4,
 "nbformat_minor": 2
}
