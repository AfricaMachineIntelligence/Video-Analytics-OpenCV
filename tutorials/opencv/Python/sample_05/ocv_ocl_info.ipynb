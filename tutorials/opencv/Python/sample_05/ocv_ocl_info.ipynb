{
 "cells": [
  {
   "cell_type": "markdown",
   "metadata": {},
   "source": [
    "# OpenCV Tutorial Sample_05: ocv_ocl_info\n",
    "\n",
    "[Sample 05](ocv_ocl_info.py) is a simple diagnostic program that determines whether OpenCL is available for use within OpenCV, Enables OpenCL, checks whether it has been enabled and then disables it. The program then checks if OpenCL has been disabled and exits.\n",
    "\n",
    "### What is OpenCL?\n",
    "OpenCL™ (Open Computing Language) is the open standard for parallel programming. Using OpenCL, one can use the GPU for parallel computing tasks other than just for graphics programming. Once can also use DSP's, FPGA's and other types of processors using OpenCL.\n",
    "\n",
    "###  How does OpenCV use OpenCL?\n",
    "In Computer Vision many algorithms can run on a GPU much more effectively than on a CPU: e.g. image processing, matrix arithmetic, computational photography, object detection etc. OpenCV 3.x is able to accelerate and optimize performaance by using an architectural concept called Transparent API (T-API) to transparently speed up certain tasks if supported by the underlying hardware.\n",
    "\n",
    "## Sample Diagnostic Code\n",
    "\n",
    "Start with the usual initialization\n"
   ]
  },
  {
   "cell_type": "code",
   "execution_count": null,
   "metadata": {
    "collapsed": true
   },
   "outputs": [],
   "source": [
    "#!/usr/bin/env python2\n",
    "\n",
    "# Python 2/3 compatibility\n",
    "from __future__ import print_function\n",
    "# Allows use of print like a function in Python 2.x\n",
    "\n",
    "# Import the OpenCV2 module\n",
    "import cv2"
   ]
  },
  {
   "cell_type": "markdown",
   "metadata": {},
   "source": [
    "Using the OpenCV API cv2.ocl.haveOpenCL() returns True if OpenCL is supported. If it is supported, OpenCL can be enabled using cv2.ocl.setUseOpenCL(True) and disabled using cv2.ocl.setUseOpenCL(False). To check if OpenCL has been enabled or disabled, use cv2.ocl.useOpenCL() which will return True or False as the case may be.\n",
    "\n",
    ">Note: OpenCV Python module does not currently support enumeration of OpenCL devices.\n",
    "\n",
    "The enable OpenCL with exception handling and check whether it was enabled, run the following code:"
   ]
  },
  {
   "cell_type": "code",
   "execution_count": null,
   "metadata": {
    "collapsed": true
   },
   "outputs": [],
   "source": [
    "try:\n",
    "    # Returns True if OpenCL is present\n",
    "    ocl = cv2.ocl.haveOpenCL()\n",
    "    # Prints whether OpenCL is present\n",
    "    print(\"OpenCL Supported?: \", end='')\n",
    "    print(ocl)\n",
    "    print()\n",
    "    # Enables use of OpenCL by OpenCV if present\n",
    "    if ocl == True:\n",
    "        print('Now enabling OpenCL support')\n",
    "        cv2.ocl.setUseOpenCL(True)\n",
    "        print(\"Has OpenCL been Enabled?: \", end='')\n",
    "        print(cv2.ocl.useOpenCL())\n",
    "\n",
    "except cv2.error as e:\n",
    "    print('Error:')"
   ]
  },
  {
   "cell_type": "markdown",
   "metadata": {},
   "source": [
    "The disable OpenCL with exception handling and check whether it has been disabled, run the following code:"
   ]
  },
  {
   "cell_type": "code",
   "execution_count": null,
   "metadata": {
    "collapsed": true
   },
   "outputs": [],
   "source": [
    "try:\n",
    "    ocl_en = cv2.ocl.useOpenCL()\n",
    "    if ocl_en ==True:\n",
    "        print('Now disabling OpenCL support')\n",
    "        cv2.ocl.setUseOpenCL(False)\n",
    "\n",
    "    print(\"Checking - Is OpenCL still Enabled?: \", end='')\n",
    "    print(cv2.ocl.useOpenCL())\n",
    "    print()\n",
    "\n",
    "except cv2.error as e:\n",
    "    print('Error:')"
   ]
  }
 ],
 "metadata": {
  "anaconda-cloud": {},
  "kernelspec": {
   "display_name": "Python [default]",
   "language": "python",
   "name": "python3"
  },
  "language_info": {
   "codemirror_mode": {
    "name": "ipython",
    "version": 3
   },
   "file_extension": ".py",
   "mimetype": "text/x-python",
   "name": "python",
   "nbconvert_exporter": "python",
   "pygments_lexer": "ipython3",
   "version": "3.5.2"
  }
 },
 "nbformat": 4,
 "nbformat_minor": 1
}
