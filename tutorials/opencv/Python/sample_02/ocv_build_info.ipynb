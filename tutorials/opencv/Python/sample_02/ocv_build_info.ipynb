{
 "cells": [
  {
   "cell_type": "markdown",
   "metadata": {},
   "source": [
    "# OpenCV Tutorial Sample 2: ocv_build_info"
   ]
  },
  {
   "cell_type": "markdown",
   "metadata": {},
   "source": [
    "[Sample 02](sample_01/ocv_build_info.py) is a simple diagnostic program that displays the detailed OpenCV build information."
   ]
  },
  {
   "cell_type": "markdown",
   "metadata": {},
   "source": [
    "First the standard Python shebang "
   ]
  },
  {
   "cell_type": "code",
   "execution_count": 2,
   "metadata": {
    "collapsed": true
   },
   "outputs": [],
   "source": [
    "#!/usr/bin/env python2"
   ]
  },
  {
   "cell_type": "markdown",
   "metadata": {},
   "source": [
    "Next import print_function for Python 2/3 compatibility. This allows use of print like a function in Python 2.x"
   ]
  },
  {
   "cell_type": "code",
   "execution_count": 3,
   "metadata": {
    "collapsed": true
   },
   "outputs": [],
   "source": [
    "# Python 2/3 compatibility\n",
    "from __future__ import print_function\n",
    "# Allows use of print like a function in Python 2.x"
   ]
  },
  {
   "cell_type": "markdown",
   "metadata": {},
   "source": [
    "Import the OpenCV Python module"
   ]
  },
  {
   "cell_type": "code",
   "execution_count": 4,
   "metadata": {
    "collapsed": true
   },
   "outputs": [],
   "source": [
    "# Import OpenCV Python module\n",
    "import cv2"
   ]
  },
  {
   "cell_type": "markdown",
   "metadata": {},
   "source": [
    "Now obtain and print OpenCV Build Configuration. The function getBuildInformation() returns the full configuration time cmake output"
   ]
  },
  {
   "cell_type": "code",
   "execution_count": 5,
   "metadata": {
    "collapsed": false
   },
   "outputs": [
    {
     "name": "stdout",
     "output_type": "stream",
     "text": [
      "\n",
      "General configuration for OpenCV 3.2.0 =====================================\n",
      "  Version control:               3.2.0\n",
      "\n",
      "  Platform:\n",
      "    Timestamp:                   2016-12-23T14:50:36Z\n",
      "    Host:                        Windows 10.0.14393 AMD64\n",
      "    CMake:                       3.7.0\n",
      "    CMake generator:             Visual Studio 14 2015\n",
      "    CMake build tool:            C:/Program Files (x86)/MSBuild/14.0/bin/MSBuild.exe\n",
      "    MSVC:                        1900\n",
      "\n",
      "  C/C++:\n",
      "    Built as dynamic libs?:      NO\n",
      "    C++ Compiler:                C:/Program Files (x86)/Microsoft Visual Studio 14.0/VC/bin/cl.exe  (ver 19.0.24215.1)\n",
      "    C++ flags (Release):         /DWIN32 /D_WINDOWS /W4 /GR /EHa  /D _CRT_SECURE_NO_DEPRECATE /D _CRT_NONSTDC_NO_DEPRECATE /D _SCL_SECURE_NO_WARNINGS /Gy /bigobj /arch:SSE2 /Oi /fp:fast  /wd4251 /wd4324 /wd4275 /wd4589 /MP8  /MT /O2 /Ob2 /DNDEBUG  /Zi\n",
      "    C++ flags (Debug):           /DWIN32 /D_WINDOWS /W4 /GR /EHa  /D _CRT_SECURE_NO_DEPRECATE /D _CRT_NONSTDC_NO_DEPRECATE /D _SCL_SECURE_NO_WARNINGS /Gy /bigobj /arch:SSE2 /Oi /fp:fast  /wd4251 /wd4324 /wd4275 /wd4589 /MP8  /D_DEBUG /MTd /Zi /Ob0 /Od /RTC1 \n",
      "    C Compiler:                  C:/Program Files (x86)/Microsoft Visual Studio 14.0/VC/bin/cl.exe\n",
      "    C flags (Release):           /DWIN32 /D_WINDOWS /W3  /D _CRT_SECURE_NO_DEPRECATE /D _CRT_NONSTDC_NO_DEPRECATE /D _SCL_SECURE_NO_WARNINGS /Gy /bigobj /arch:SSE2 /Oi /fp:fast    /MP8  /MT /O2 /Ob2 /DNDEBUG  /Zi\n",
      "    C flags (Debug):             /DWIN32 /D_WINDOWS /W3  /D _CRT_SECURE_NO_DEPRECATE /D _CRT_NONSTDC_NO_DEPRECATE /D _SCL_SECURE_NO_WARNINGS /Gy /bigobj /arch:SSE2 /Oi /fp:fast    /MP8  /D_DEBUG /MTd /Zi /Ob0 /Od /RTC1 \n",
      "    Linker flags (Release):      /machine:X86  /NODEFAULTLIB:atlthunk.lib /NODEFAULTLIB:msvcrt.lib /NODEFAULTLIB:msvcrtd.lib /INCREMENTAL:NO  /debug /NODEFAULTLIB:libcmtd.lib\n",
      "    Linker flags (Debug):        /machine:X86  /NODEFAULTLIB:atlthunk.lib /NODEFAULTLIB:msvcrt.lib /NODEFAULTLIB:msvcrtd.lib /debug /INCREMENTAL  /NODEFAULTLIB:libcmt.lib\n",
      "    ccache:                      NO\n",
      "    Precompiled headers:         YES\n",
      "    Extra dependencies:          comctl32 gdi32 ole32 setupapi ws2_32 vfw32\n",
      "    3rdparty dependencies:       zlib libjpeg libwebp libpng libtiff libjasper IlmImf ippicv\n",
      "\n",
      "  OpenCV modules:\n",
      "    To be built:                 core flann imgproc ml photo video imgcodecs shape videoio highgui objdetect superres features2d calib3d java stitching videostab python2\n",
      "    Disabled:                    python3 world\n",
      "    Disabled by dependency:      -\n",
      "    Unavailable:                 cudaarithm cudabgsegm cudacodec cudafeatures2d cudafilters cudaimgproc cudalegacy cudaobjdetect cudaoptflow cudastereo cudawarping cudev ts viz\n",
      "\n",
      "  Windows RT support:            NO\n",
      "\n",
      "  GUI: \n",
      "    QT:                          NO\n",
      "    Win32 UI:                    YES\n",
      "    OpenGL support:              NO\n",
      "    VTK support:                 NO\n",
      "\n",
      "  Media I/O: \n",
      "    ZLib:                        build (ver 1.2.8)\n",
      "    JPEG:                        build (ver 90)\n",
      "    WEBP:                        build (ver 0.3.1)\n",
      "    PNG:                         build (ver 1.6.24)\n",
      "    TIFF:                        build (ver 42 - 4.0.2)\n",
      "    JPEG 2000:                   build (ver 1.900.1)\n",
      "    OpenEXR:                     build (ver 1.7.1)\n",
      "    GDAL:                        NO\n",
      "    GDCM:                        NO\n",
      "\n",
      "  Video I/O:\n",
      "    Video for Windows:           YES\n",
      "    DC1394 1.x:                  NO\n",
      "    DC1394 2.x:                  NO\n",
      "    FFMPEG:                      YES (prebuilt binaries)\n",
      "      avcodec:                   YES (ver 57.64.101)\n",
      "      avformat:                  YES (ver 57.56.100)\n",
      "      avutil:                    YES (ver 55.34.100)\n",
      "      swscale:                   YES (ver 4.2.100)\n",
      "      avresample:                YES (ver 3.1.0)\n",
      "    GStreamer:                   NO\n",
      "    OpenNI:                      NO\n",
      "    OpenNI PrimeSensor Modules:  NO\n",
      "    OpenNI2:                     NO\n",
      "    PvAPI:                       NO\n",
      "    GigEVisionSDK:               NO\n",
      "    DirectShow:                  YES\n",
      "    Media Foundation:            NO\n",
      "    XIMEA:                       NO\n",
      "    Intel PerC:                  NO\n",
      "\n",
      "  Parallel framework:            Concurrency\n",
      "\n",
      "  Other third-party libraries:\n",
      "    Use IPP:                     9.0.1 [9.0.1]\n",
      "         at:                     C:/build/master_winpack-bindings-win32-vc14-static/build/3rdparty/ippicv/ippicv_win\n",
      "    Use IPP Async:               NO\n",
      "    Use Lapack:                  NO\n",
      "    Use Eigen:                   NO\n",
      "    Use Cuda:                    NO\n",
      "    Use OpenCL:                  YES\n",
      "    Use OpenVX:                  NO\n",
      "    Use custom HAL:              NO\n",
      "\n",
      "  OpenCL:                        <Dynamic loading of OpenCL library>\n",
      "    Include path:                C:/build/master_winpack-bindings-win32-vc14-static/opencv/3rdparty/include/opencl/1.2\n",
      "    Use AMDFFT:                  NO\n",
      "    Use AMDBLAS:                 NO\n",
      "\n",
      "  Python 2:\n",
      "    Interpreter:                 C:/utils/soft/python27-x86/python.exe (ver 2.7.12)\n",
      "    Libraries:                   C:/utils/soft/python27-x86/Libs/python27.lib (ver 2.7.12)\n",
      "    numpy:                       C:/utils/soft/python27-x86/lib/site-packages/numpy/core/include (ver 1.11.2)\n",
      "    packages path:               C:/utils/soft/python27-x86/Lib/site-packages\n",
      "\n",
      "  Python 3:\n",
      "    Interpreter:                 C:/utils/soft/python35-x86/python.exe (ver 3.5.2)\n",
      "\n",
      "  Python (for build):            C:/utils/soft/python27-x86/python.exe\n",
      "\n",
      "  Java:\n",
      "    ant:                         C:/utils/soft/apache-ant-1.9.7/bin/ant.bat (ver 1.9.7)\n",
      "    JNI:                         C:/Program Files (x86)/Java/jdk1.8.0_112/include C:/Program Files (x86)/Java/jdk1.8.0_112/include/win32 C:/Program Files (x86)/Java/jdk1.8.0_112/include\n",
      "    Java wrappers:               YES\n",
      "    Java tests:                  NO\n",
      "\n",
      "  Matlab:                        Matlab not found or implicitly disabled\n",
      "\n",
      "  Tests and samples:\n",
      "    Tests:                       NO\n",
      "    Performance tests:           NO\n",
      "    C/C++ Examples:              NO\n",
      "\n",
      "  Install path:                  C:/build/master_winpack-bindings-win32-vc14-static/install\n",
      "\n",
      "  cvconfig.h is in:              C:/build/master_winpack-bindings-win32-vc14-static/build\n",
      "-----------------------------------------------------------------\n",
      "\n",
      "\n"
     ]
    }
   ],
   "source": [
    "# This function returns the full configuration time cmake output\n",
    "try:\n",
    "\tbuildinfo = cv2.getBuildInformation()\n",
    "\tprint(buildinfo)\n",
    "\n",
    "except cv2.error as e:\n",
    "\tprint('Error:')"
   ]
  }
 ],
 "metadata": {
  "kernelspec": {
   "display_name": "Python 2",
   "language": "python",
   "name": "python2"
  },
  "language_info": {
   "codemirror_mode": {
    "name": "ipython",
    "version": 2
   },
   "file_extension": ".py",
   "mimetype": "text/x-python",
   "name": "python",
   "nbconvert_exporter": "python",
   "pygments_lexer": "ipython2",
   "version": "2.7.13"
  }
 },
 "nbformat": 4,
 "nbformat_minor": 2
}
