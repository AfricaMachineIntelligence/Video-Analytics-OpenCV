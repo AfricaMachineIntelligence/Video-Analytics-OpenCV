{
 "cells": [
  {
   "cell_type": "markdown",
   "metadata": {},
   "source": [
    "# OpenCV Tutorial Sample 6: ocv_vid_cap\n",
    "\n",
    "[Sample 06](ocv_vid_cap.py) is a simple program that uses OpenCV to connect to a WebCam in order to capture and save an image. This example is the basic first step for most video analytics programs. The video output of the WebCam is displayed and when the user inputs a keystroke, the frame is captured and written to an image file.\n",
    "\n",
    "Perform the usual initialization"
   ]
  },
  {
   "cell_type": "code",
   "execution_count": 1,
   "metadata": {
    "collapsed": false
   },
   "outputs": [
    {
     "name": "stdout",
     "output_type": "stream",
     "text": [
      "OpenCV Version: 3.2.0\n",
      "Numpy Version: 1.12.1\n",
      "OpenCV Video Capture Sample\n",
      "Type c to Capture and q to Quit\n"
     ]
    }
   ],
   "source": [
    "#!/usr/bin/env python\n",
    "\n",
    "# Python 2/3 compatibility\n",
    "from __future__ import print_function\n",
    "# Allows use of print like a function in Python 2.x\n",
    "\n",
    "# Import Numpy and OpenCV modules\n",
    "import numpy as np\n",
    "import cv2\n",
    "# Print Debug Info\n",
    "print('OpenCV Version:', cv2.__version__)\n",
    "print('Numpy Version:', np.__version__)\n",
    "print('OpenCV Video Capture Sample')\n",
    "print('Type c to Capture and q to Quit')"
   ]
  },
  {
   "cell_type": "markdown",
   "metadata": {},
   "source": [
    "Next, open a named GUI window for displaying the webcam video in real-time. Initialize a counter to keep track of captures and initialize the webcam. These are the same steps taken in sample_04 to test the camera."
   ]
  },
  {
   "cell_type": "code",
   "execution_count": 6,
   "metadata": {
    "collapsed": false
   },
   "outputs": [
    {
     "name": "stdout",
     "output_type": "stream",
     "text": [
      "Success: Grabbed the camera\n"
     ]
    }
   ],
   "source": [
    "# Initialize GUI window to grab keystrokes when it has focus.\n",
    "cv2.namedWindow(\"Capture\")\n",
    "# Initialize Capture Counter\n",
    "cap_cnt = 0\n",
    "# Initialize Video Web Camera for capture. The default camera is 0 (usually built-in) \n",
    "# The second camera would be 1 and so on\n",
    "webcam = cv2.VideoCapture(0)\n",
    "# Check if Camera initialized correctly\n",
    "success = webcam.isOpened()\n",
    "if success == False:\n",
    "    print('Error: Camera could not be opened')\n",
    "else:\n",
    "    print('Success: Grabbed the camera')"
   ]
  },
  {
   "cell_type": "markdown",
   "metadata": {},
   "source": [
    "Next we setup a loop that reads each frame and then displays it. We also setup an event handler that monitors the keyboard for the c and q keys to capture a framegrab or quit the program respectively. If the c key is pressed, we use the OpenCV API [cv2.imwrite()](http://docs.opencv.org/3.0-last-rst/modules/imgcodecs/doc/reading_and_writing_images.html#cv2.imwrite) to write the frame as an image file to disk. The filename is incremented with the counter we initialized before."
   ]
  },
  {
   "cell_type": "code",
   "execution_count": 7,
   "metadata": {
    "collapsed": false
   },
   "outputs": [
    {
     "name": "stdout",
     "output_type": "stream",
     "text": [
      "Quitting...\n"
     ]
    }
   ],
   "source": [
    "while True:\n",
    "    # Read each frame in video stream\n",
    "    ret, frame = webcam.read()\n",
    "    # Display each frame in video stream\n",
    "    cv2.imshow(\"Capture\", frame)\n",
    "    if not ret:\n",
    "        break\n",
    "# Monitor keystrokes\n",
    "    k = cv2.waitKey(1)\n",
    "\n",
    "    if k & 0xFF == ord('q'):\n",
    "        # q key pressed so quit\n",
    "        print(\"Quitting...\")\n",
    "        break\n",
    "    elif k & 0xFF == ord('c'):\n",
    "        # c key pressed so capture frame to image file\n",
    "        cap_name = \"capture_{}.png\".format(cap_cnt)\n",
    "        cv2.imwrite(cap_name, frame)\n",
    "        print(\"Saving {}!\".format(cap_name))\n",
    "        # Increment Capture Counter for next frame to capture\n",
    "        cap_cnt += 1"
   ]
  },
  {
   "cell_type": "markdown",
   "metadata": {},
   "source": [
    "Now release all devices and resources used before exiting."
   ]
  },
  {
   "cell_type": "code",
   "execution_count": 10,
   "metadata": {
    "collapsed": true
   },
   "outputs": [],
   "source": [
    "# Release all resources used\n",
    "webcam.release()\n",
    "cv2.destroyAllWindows()"
   ]
  }
 ],
 "metadata": {
  "anaconda-cloud": {},
  "kernelspec": {
   "display_name": "Python 2",
   "language": "python",
   "name": "python2"
  },
  "language_info": {
   "codemirror_mode": {
    "name": "ipython",
    "version": 2
   },
   "file_extension": ".py",
   "mimetype": "text/x-python",
   "name": "python",
   "nbconvert_exporter": "python",
   "pygments_lexer": "ipython2",
   "version": "2.7.13"
  }
 },
 "nbformat": 4,
 "nbformat_minor": 1
}
