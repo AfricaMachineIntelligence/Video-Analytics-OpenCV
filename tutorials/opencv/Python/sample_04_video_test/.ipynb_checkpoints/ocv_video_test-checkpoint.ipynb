{
 "cells": [
  {
   "cell_type": "markdown",
   "metadata": {},
   "source": [
    "# OpenCV Tutorial Sample 4: ocv_video_test\n",
    "\n",
    "[Sample 04](ocv_video_test.py) is a sanity test that uses OpenCV to connect to a WebCam and display the video stream. This test serves to ensure that OpenCV WebCam installation is working and further validates the development environment. It also shows how to overlay text on video streams.\n",
    "\n",
    "We start by performing the basic initializations"
   ]
  },
  {
   "cell_type": "code",
   "execution_count": 14,
   "metadata": {
    "collapsed": true
   },
   "outputs": [],
   "source": [
    "#!/usr/bin/env python2\n",
    "\n",
    "# Python 2/3 compatibility\n",
    "from __future__ import print_function\n",
    "# Allows use of print like a function in Python 2.x\n",
    "\n",
    "# Import OpenCV and Numpy modules\n",
    "import numpy as np\n",
    "import cv2"
   ]
  },
  {
   "cell_type": "markdown",
   "metadata": {},
   "source": [
    "First we need to initialize a Video Web Camera for capturing video with OpenCV. We do this transparently by using an OpenCV API [cv2.VideoCapture()](http://docs.opencv.org/3.0-last-rst/modules/videoio/doc/reading_and_writing_video.html#cv2.VideoCapture)\n",
    "\n",
    "```\n",
    "    cv2.VideoCapture(Parameters)\n",
    "```\n",
    "\n",
    "    Parameters:\n",
    "\n",
    "    filename – Name and path of file to be loaded.\n",
    "    device_id - Id of the opened video capturing device (i.e. a camera index).\n",
    "\n",
    "    Device Id:\n",
    "    \n",
    "    The default camera is 0 (usually built-in).The second camera would be 1 and so on\n",
    "\n",
    ">Note: On the Nuc which has no camera, the default Id of \"0\" should work. On a Laptop, you may need to try \"0\" or \"1\" if you have two cameras for front and back."
   ]
  },
  {
   "cell_type": "code",
   "execution_count": 15,
   "metadata": {
    "collapsed": true
   },
   "outputs": [],
   "source": [
    "webcam = cv2.VideoCapture(0)"
   ]
  },
  {
   "cell_type": "markdown",
   "metadata": {},
   "source": [
    "cv2.videoCapture() method has many calls and isOpened() returns (True) if the device is opened sucessfully"
   ]
  },
  {
   "cell_type": "code",
   "execution_count": 16,
   "metadata": {
    "collapsed": false
   },
   "outputs": [
    {
     "name": "stdout",
     "output_type": "stream",
     "text": [
      "Success: Grabbed the camera\n"
     ]
    }
   ],
   "source": [
    "# Check if Camera was initialized correctly\n",
    "success = webcam.isOpened()\n",
    "if success == False:\n",
    "    print('Error: Camera could not be opened')\n",
    "else:\n",
    "    print('Success: Grabbed the camera')"
   ]
  },
  {
   "cell_type": "markdown",
   "metadata": {},
   "source": [
    "Next we use the read() function from cv2.VideoCapure to read a video frame while this is (True)"
   ]
  },
  {
   "cell_type": "code",
   "execution_count": 17,
   "metadata": {
    "collapsed": false
   },
   "outputs": [],
   "source": [
    "# Read each frame in video stream\n",
    "ret, frame = webcam.read()        "
   ]
  },
  {
   "cell_type": "markdown",
   "metadata": {},
   "source": [
    "Once the frame is read, it is usually converted to grayscale before performing further operations. This avoids having to process color information in real-time. For this we use the same cv2.cvtColor() method from our previous example with just a different color space conversion code."
   ]
  },
  {
   "cell_type": "code",
   "execution_count": 18,
   "metadata": {
    "collapsed": true
   },
   "outputs": [],
   "source": [
    "gray = cv2.cvtColor(frame, cv2.COLOR_BGR2GRAY)"
   ]
  },
  {
   "cell_type": "markdown",
   "metadata": {},
   "source": [
    "Overlay Text on the video frame with Exit instructions"
   ]
  },
  {
   "cell_type": "code",
   "execution_count": 19,
   "metadata": {
    "collapsed": false
   },
   "outputs": [
    {
     "data": {
      "text/plain": [
       "array([[  7,   7,   6, ..., 158, 157, 159],\n",
       "       [  6,   6,   5, ..., 157, 158, 158],\n",
       "       [ 10,   6,   7, ..., 158, 158, 158],\n",
       "       ..., \n",
       "       [  7,   5,   5, ..., 145, 145, 147],\n",
       "       [  6,   6,   9, ..., 143, 144, 146],\n",
       "       [  8,   9,   7, ..., 139, 144, 145]], dtype=uint8)"
      ]
     },
     "execution_count": 19,
     "metadata": {},
     "output_type": "execute_result"
    }
   ],
   "source": [
    "font = cv2.FONT_HERSHEY_SIMPLEX\n",
    "cv2.putText(gray, \"Type q to Quit:\",(50,50), font, 1,(0,0,0),2,cv2.LINE_AA)"
   ]
  },
  {
   "cell_type": "markdown",
   "metadata": {},
   "source": [
    "Now display the captured frame with overlay text in a GUI window"
   ]
  },
  {
   "cell_type": "code",
   "execution_count": 20,
   "metadata": {
    "collapsed": true
   },
   "outputs": [],
   "source": [
    "cv2.namedWindow('Output', cv2.WINDOW_AUTOSIZE)\n",
    "cv2.imshow('Output',gray)"
   ]
  },
  {
   "cell_type": "markdown",
   "metadata": {},
   "source": [
    "Next comes the event handler where we wait for the q key and then release the devices and resources used"
   ]
  },
  {
   "cell_type": "code",
   "execution_count": 21,
   "metadata": {
    "collapsed": false
   },
   "outputs": [],
   "source": [
    "# Wait for exit key \"q\" to quit\n",
    "if cv2.waitKey(1) & 0xFF == ord('q'):\n",
    "    print('Exiting ...')"
   ]
  },
  {
   "cell_type": "markdown",
   "metadata": {},
   "source": [
    ">Note: Since the interactive tutorial mode is not well suited for handling video, the While(True) loop has been omited and so you will only see a still image. But you can see this working for video in the consolidated example and script.\n",
    "\n",
    "Next we release the devices and all resources used."
   ]
  },
  {
   "cell_type": "code",
   "execution_count": 22,
   "metadata": {
    "collapsed": true
   },
   "outputs": [],
   "source": [
    "webcam.release()\n",
    "cv2.destroyAllWindows()"
   ]
  },
  {
   "cell_type": "markdown",
   "metadata": {},
   "source": [
    ">Note: Ensure that the camera was released in the previous step. The camera light should go off. If not restart the kernel before continuing to the next step.\n",
    "\n",
    "Now putting it all together with exception handling:"
   ]
  },
  {
   "cell_type": "code",
   "execution_count": 26,
   "metadata": {
    "collapsed": false
   },
   "outputs": [
    {
     "name": "stdout",
     "output_type": "stream",
     "text": [
      "Success: Grabbed the camera\n",
      "Exiting ...\n"
     ]
    }
   ],
   "source": [
    "#!/usr/bin/env python2\n",
    "\n",
    "# Python 2/3 compatibility\n",
    "from __future__ import print_function\n",
    "# Allows use of print like a function in Python 2.x\n",
    "\n",
    "# Import OpenCV and Numpy modules\n",
    "import numpy as np\n",
    "import cv2\n",
    "try:\n",
    "    webcam = cv2.VideoCapture(0)\n",
    "    # Check if Camera initialized correctly\n",
    "    success = webcam.isOpened()\n",
    "    if success == False:\n",
    "        print('Error: Camera could not be opened')\n",
    "    else:\n",
    "        print('Success: Grabbed the camera')\n",
    "\n",
    "\n",
    "    while(True):\n",
    "        # Read each frame in video stream\n",
    "        ret, frame = webcam.read()\n",
    "        # Perform operations on the frame here\n",
    "        # For example convert to Grayscale \n",
    "        gray = cv2.cvtColor(frame, cv2.COLOR_BGR2GRAY)\n",
    "        # Overlay Text on the video frame with Exit instructions\n",
    "        font = cv2.FONT_HERSHEY_SIMPLEX\n",
    "        cv2.putText(gray, \"Type q to Quit:\",(50,50), font, 1,(0,0,0),2,cv2.LINE_AA)\n",
    "        # Display the resulting frame\n",
    "        cv2.imshow('frame',gray)\n",
    "        # Wait for exit key \"q\" to quit\n",
    "        if cv2.waitKey(1) & 0xFF == ord('q'):\n",
    "            print('Exiting ...')\n",
    "            break\n",
    "    # Release all resources used\n",
    "    webcam.release()\n",
    "    cv2.destroyAllWindows()\n",
    "\n",
    "except cv2.error as e:\n",
    "    print('Please correct OpenCV Error')"
   ]
  }
 ],
 "metadata": {
  "kernelspec": {
   "display_name": "Python 2",
   "language": "python",
   "name": "python2"
  },
  "language_info": {
   "codemirror_mode": {
    "name": "ipython",
    "version": 2
   },
   "file_extension": ".py",
   "mimetype": "text/x-python",
   "name": "python",
   "nbconvert_exporter": "python",
   "pygments_lexer": "ipython2",
   "version": "2.7.13"
  }
 },
 "nbformat": 4,
 "nbformat_minor": 2
}
